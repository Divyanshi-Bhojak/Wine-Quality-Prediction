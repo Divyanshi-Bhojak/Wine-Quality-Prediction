{
  "nbformat": 4,
  "nbformat_minor": 0,
  "metadata": {
    "colab": {
      "name": "Support Vector Machine& Random Forest.ipynb",
      "provenance": [],
      "collapsed_sections": []
    },
    "kernelspec": {
      "name": "python3",
      "display_name": "Python 3"
    }
  },
  "cells": [
    {
      "cell_type": "markdown",
      "metadata": {
        "id": "svci8csqDIvn"
      },
      "source": [
        "# **1. Necessary Import**"
      ]
    },
    {
      "cell_type": "code",
      "metadata": {
        "id": "75H6ROS7wQC5"
      },
      "source": [
        "import pandas as pd\n",
        "import numpy as np\n",
        "import matplotlib.pyplot as plt\n",
        "\n",
        "import seaborn as sns\n",
        "from sklearn.ensemble import RandomForestClassifier\n",
        "from sklearn.metrics import confusion_matrix, plot_confusion_matrix, classification_report\n",
        "from sklearn.metrics import roc_auc_score, accuracy_score\n",
        "\n",
        "from sklearn.model_selection import  GridSearchCV\n",
        "from sklearn import svm\n",
        "from sklearn.svm import SVC\n",
        "\n",
        "from sklearn.model_selection import KFold\n",
        "from sklearn.preprocessing import MinMaxScaler\n",
        "from sklearn import svm\n",
        "from sklearn.svm import SVR\n",
        "from sklearn.metrics import accuracy_score"
      ],
      "execution_count": null,
      "outputs": []
    },
    {
      "cell_type": "markdown",
      "metadata": {
        "id": "BnNugHRhx1q9"
      },
      "source": [
        "# **2.  DATASET:**"
      ]
    },
    {
      "cell_type": "markdown",
      "metadata": {
        "id": "apw1Azie0IZK"
      },
      "source": [
        "The dataset is \"wine.csv\" Using chemical analysis determine the origin of wines and is taken from UCI Machine Learning Repositary. \n",
        "* **Number of Instances:** 1599\n",
        "* **Number of Attributes:** 12"
      ]
    },
    {
      "cell_type": "markdown",
      "metadata": {
        "id": "w4_W6Nx72b72"
      },
      "source": [
        "**Loading Dataset from csv file**"
      ]
    },
    {
      "cell_type": "code",
      "metadata": {
        "id": "KWSpXQHg182Z"
      },
      "source": [
        "cell_df = pd.read_csv('/content/sample_data/wine.csv')"
      ],
      "execution_count": null,
      "outputs": []
    },
    {
      "cell_type": "code",
      "metadata": {
        "id": "ufMyKm-X2f7M",
        "colab": {
          "base_uri": "https://localhost:8080/"
        },
        "outputId": "b08cf356-91c4-4ad1-9769-479751273811"
      },
      "source": [
        "cell_df.columns"
      ],
      "execution_count": null,
      "outputs": [
        {
          "output_type": "execute_result",
          "data": {
            "text/plain": [
              "Index(['fixed acidity', 'volatile acidity', 'citric acid', 'residual sugar',\n",
              "       'chlorides', 'free sulfur dioxide', 'total sulfur dioxide', 'density',\n",
              "       'pH', 'sulphates', 'alcohol', 'quality'],\n",
              "      dtype='object')"
            ]
          },
          "metadata": {
            "tags": []
          },
          "execution_count": 128
        }
      ]
    },
    {
      "cell_type": "code",
      "metadata": {
        "id": "Kjfy7zXgf4zn",
        "colab": {
          "base_uri": "https://localhost:8080/",
          "height": 224
        },
        "outputId": "86f126cf-192e-44ca-8982-5960c1ff2e95"
      },
      "source": [
        "cell_df.head()"
      ],
      "execution_count": null,
      "outputs": [
        {
          "output_type": "execute_result",
          "data": {
            "text/html": [
              "<div>\n",
              "<style scoped>\n",
              "    .dataframe tbody tr th:only-of-type {\n",
              "        vertical-align: middle;\n",
              "    }\n",
              "\n",
              "    .dataframe tbody tr th {\n",
              "        vertical-align: top;\n",
              "    }\n",
              "\n",
              "    .dataframe thead th {\n",
              "        text-align: right;\n",
              "    }\n",
              "</style>\n",
              "<table border=\"1\" class=\"dataframe\">\n",
              "  <thead>\n",
              "    <tr style=\"text-align: right;\">\n",
              "      <th></th>\n",
              "      <th>fixed acidity</th>\n",
              "      <th>volatile acidity</th>\n",
              "      <th>citric acid</th>\n",
              "      <th>residual sugar</th>\n",
              "      <th>chlorides</th>\n",
              "      <th>free sulfur dioxide</th>\n",
              "      <th>total sulfur dioxide</th>\n",
              "      <th>density</th>\n",
              "      <th>pH</th>\n",
              "      <th>sulphates</th>\n",
              "      <th>alcohol</th>\n",
              "      <th>quality</th>\n",
              "    </tr>\n",
              "  </thead>\n",
              "  <tbody>\n",
              "    <tr>\n",
              "      <th>0</th>\n",
              "      <td>7.4</td>\n",
              "      <td>0.70</td>\n",
              "      <td>0.00</td>\n",
              "      <td>1.9</td>\n",
              "      <td>0.076</td>\n",
              "      <td>11.0</td>\n",
              "      <td>34.0</td>\n",
              "      <td>0.9978</td>\n",
              "      <td>3.51</td>\n",
              "      <td>0.56</td>\n",
              "      <td>9.4</td>\n",
              "      <td>bad</td>\n",
              "    </tr>\n",
              "    <tr>\n",
              "      <th>1</th>\n",
              "      <td>7.8</td>\n",
              "      <td>0.88</td>\n",
              "      <td>0.00</td>\n",
              "      <td>2.6</td>\n",
              "      <td>0.098</td>\n",
              "      <td>25.0</td>\n",
              "      <td>67.0</td>\n",
              "      <td>0.9968</td>\n",
              "      <td>3.20</td>\n",
              "      <td>0.68</td>\n",
              "      <td>9.8</td>\n",
              "      <td>bad</td>\n",
              "    </tr>\n",
              "    <tr>\n",
              "      <th>2</th>\n",
              "      <td>7.8</td>\n",
              "      <td>0.76</td>\n",
              "      <td>0.04</td>\n",
              "      <td>2.3</td>\n",
              "      <td>0.092</td>\n",
              "      <td>15.0</td>\n",
              "      <td>54.0</td>\n",
              "      <td>0.9970</td>\n",
              "      <td>3.26</td>\n",
              "      <td>0.65</td>\n",
              "      <td>9.8</td>\n",
              "      <td>bad</td>\n",
              "    </tr>\n",
              "    <tr>\n",
              "      <th>3</th>\n",
              "      <td>11.2</td>\n",
              "      <td>0.28</td>\n",
              "      <td>0.56</td>\n",
              "      <td>1.9</td>\n",
              "      <td>0.075</td>\n",
              "      <td>17.0</td>\n",
              "      <td>60.0</td>\n",
              "      <td>0.9980</td>\n",
              "      <td>3.16</td>\n",
              "      <td>0.58</td>\n",
              "      <td>9.8</td>\n",
              "      <td>good</td>\n",
              "    </tr>\n",
              "    <tr>\n",
              "      <th>4</th>\n",
              "      <td>7.4</td>\n",
              "      <td>0.70</td>\n",
              "      <td>0.00</td>\n",
              "      <td>1.9</td>\n",
              "      <td>0.076</td>\n",
              "      <td>11.0</td>\n",
              "      <td>34.0</td>\n",
              "      <td>0.9978</td>\n",
              "      <td>3.51</td>\n",
              "      <td>0.56</td>\n",
              "      <td>9.4</td>\n",
              "      <td>bad</td>\n",
              "    </tr>\n",
              "  </tbody>\n",
              "</table>\n",
              "</div>"
            ],
            "text/plain": [
              "   fixed acidity  volatile acidity  citric acid  ...  sulphates  alcohol  quality\n",
              "0            7.4              0.70         0.00  ...       0.56      9.4      bad\n",
              "1            7.8              0.88         0.00  ...       0.68      9.8      bad\n",
              "2            7.8              0.76         0.04  ...       0.65      9.8      bad\n",
              "3           11.2              0.28         0.56  ...       0.58      9.8     good\n",
              "4            7.4              0.70         0.00  ...       0.56      9.4      bad\n",
              "\n",
              "[5 rows x 12 columns]"
            ]
          },
          "metadata": {
            "tags": []
          },
          "execution_count": 7
        }
      ]
    },
    {
      "cell_type": "code",
      "metadata": {
        "id": "ilq182zwf7fH",
        "colab": {
          "base_uri": "https://localhost:8080/",
          "height": 224
        },
        "outputId": "1a03541e-a77c-4818-a8f5-44e5c49d63ad"
      },
      "source": [
        "cell_df.tail()"
      ],
      "execution_count": null,
      "outputs": [
        {
          "output_type": "execute_result",
          "data": {
            "text/html": [
              "<div>\n",
              "<style scoped>\n",
              "    .dataframe tbody tr th:only-of-type {\n",
              "        vertical-align: middle;\n",
              "    }\n",
              "\n",
              "    .dataframe tbody tr th {\n",
              "        vertical-align: top;\n",
              "    }\n",
              "\n",
              "    .dataframe thead th {\n",
              "        text-align: right;\n",
              "    }\n",
              "</style>\n",
              "<table border=\"1\" class=\"dataframe\">\n",
              "  <thead>\n",
              "    <tr style=\"text-align: right;\">\n",
              "      <th></th>\n",
              "      <th>fixed acidity</th>\n",
              "      <th>volatile acidity</th>\n",
              "      <th>citric acid</th>\n",
              "      <th>residual sugar</th>\n",
              "      <th>chlorides</th>\n",
              "      <th>free sulfur dioxide</th>\n",
              "      <th>total sulfur dioxide</th>\n",
              "      <th>density</th>\n",
              "      <th>pH</th>\n",
              "      <th>sulphates</th>\n",
              "      <th>alcohol</th>\n",
              "      <th>quality</th>\n",
              "    </tr>\n",
              "  </thead>\n",
              "  <tbody>\n",
              "    <tr>\n",
              "      <th>1594</th>\n",
              "      <td>6.2</td>\n",
              "      <td>0.600</td>\n",
              "      <td>0.08</td>\n",
              "      <td>2.0</td>\n",
              "      <td>0.090</td>\n",
              "      <td>32.0</td>\n",
              "      <td>44.0</td>\n",
              "      <td>0.99490</td>\n",
              "      <td>3.45</td>\n",
              "      <td>0.58</td>\n",
              "      <td>10.5</td>\n",
              "      <td>bad</td>\n",
              "    </tr>\n",
              "    <tr>\n",
              "      <th>1595</th>\n",
              "      <td>5.9</td>\n",
              "      <td>0.550</td>\n",
              "      <td>0.10</td>\n",
              "      <td>2.2</td>\n",
              "      <td>0.062</td>\n",
              "      <td>39.0</td>\n",
              "      <td>51.0</td>\n",
              "      <td>0.99512</td>\n",
              "      <td>3.52</td>\n",
              "      <td>0.76</td>\n",
              "      <td>11.2</td>\n",
              "      <td>good</td>\n",
              "    </tr>\n",
              "    <tr>\n",
              "      <th>1596</th>\n",
              "      <td>6.3</td>\n",
              "      <td>0.510</td>\n",
              "      <td>0.13</td>\n",
              "      <td>2.3</td>\n",
              "      <td>0.076</td>\n",
              "      <td>29.0</td>\n",
              "      <td>40.0</td>\n",
              "      <td>0.99574</td>\n",
              "      <td>3.42</td>\n",
              "      <td>0.75</td>\n",
              "      <td>11.0</td>\n",
              "      <td>good</td>\n",
              "    </tr>\n",
              "    <tr>\n",
              "      <th>1597</th>\n",
              "      <td>5.9</td>\n",
              "      <td>0.645</td>\n",
              "      <td>0.12</td>\n",
              "      <td>2.0</td>\n",
              "      <td>0.075</td>\n",
              "      <td>32.0</td>\n",
              "      <td>44.0</td>\n",
              "      <td>0.99547</td>\n",
              "      <td>3.57</td>\n",
              "      <td>0.71</td>\n",
              "      <td>10.2</td>\n",
              "      <td>bad</td>\n",
              "    </tr>\n",
              "    <tr>\n",
              "      <th>1598</th>\n",
              "      <td>6.0</td>\n",
              "      <td>0.310</td>\n",
              "      <td>0.47</td>\n",
              "      <td>3.6</td>\n",
              "      <td>0.067</td>\n",
              "      <td>18.0</td>\n",
              "      <td>42.0</td>\n",
              "      <td>0.99549</td>\n",
              "      <td>3.39</td>\n",
              "      <td>0.66</td>\n",
              "      <td>11.0</td>\n",
              "      <td>good</td>\n",
              "    </tr>\n",
              "  </tbody>\n",
              "</table>\n",
              "</div>"
            ],
            "text/plain": [
              "      fixed acidity  volatile acidity  citric acid  ...  sulphates  alcohol  quality\n",
              "1594            6.2             0.600         0.08  ...       0.58     10.5      bad\n",
              "1595            5.9             0.550         0.10  ...       0.76     11.2     good\n",
              "1596            6.3             0.510         0.13  ...       0.75     11.0     good\n",
              "1597            5.9             0.645         0.12  ...       0.71     10.2      bad\n",
              "1598            6.0             0.310         0.47  ...       0.66     11.0     good\n",
              "\n",
              "[5 rows x 12 columns]"
            ]
          },
          "metadata": {
            "tags": []
          },
          "execution_count": 8
        }
      ]
    },
    {
      "cell_type": "code",
      "metadata": {
        "id": "s47ZFK19B2Jl",
        "colab": {
          "base_uri": "https://localhost:8080/",
          "height": 161
        },
        "outputId": "26adee8c-007f-49a5-a381-926ad6bf78e9"
      },
      "source": [
        "(cell_df.groupby('quality')).count()"
      ],
      "execution_count": null,
      "outputs": [
        {
          "output_type": "execute_result",
          "data": {
            "text/html": [
              "<div>\n",
              "<style scoped>\n",
              "    .dataframe tbody tr th:only-of-type {\n",
              "        vertical-align: middle;\n",
              "    }\n",
              "\n",
              "    .dataframe tbody tr th {\n",
              "        vertical-align: top;\n",
              "    }\n",
              "\n",
              "    .dataframe thead th {\n",
              "        text-align: right;\n",
              "    }\n",
              "</style>\n",
              "<table border=\"1\" class=\"dataframe\">\n",
              "  <thead>\n",
              "    <tr style=\"text-align: right;\">\n",
              "      <th></th>\n",
              "      <th>fixed acidity</th>\n",
              "      <th>volatile acidity</th>\n",
              "      <th>citric acid</th>\n",
              "      <th>residual sugar</th>\n",
              "      <th>chlorides</th>\n",
              "      <th>free sulfur dioxide</th>\n",
              "      <th>total sulfur dioxide</th>\n",
              "      <th>density</th>\n",
              "      <th>pH</th>\n",
              "      <th>sulphates</th>\n",
              "      <th>alcohol</th>\n",
              "    </tr>\n",
              "    <tr>\n",
              "      <th>quality</th>\n",
              "      <th></th>\n",
              "      <th></th>\n",
              "      <th></th>\n",
              "      <th></th>\n",
              "      <th></th>\n",
              "      <th></th>\n",
              "      <th></th>\n",
              "      <th></th>\n",
              "      <th></th>\n",
              "      <th></th>\n",
              "      <th></th>\n",
              "    </tr>\n",
              "  </thead>\n",
              "  <tbody>\n",
              "    <tr>\n",
              "      <th>bad</th>\n",
              "      <td>744</td>\n",
              "      <td>744</td>\n",
              "      <td>744</td>\n",
              "      <td>744</td>\n",
              "      <td>744</td>\n",
              "      <td>744</td>\n",
              "      <td>744</td>\n",
              "      <td>744</td>\n",
              "      <td>744</td>\n",
              "      <td>744</td>\n",
              "      <td>744</td>\n",
              "    </tr>\n",
              "    <tr>\n",
              "      <th>good</th>\n",
              "      <td>855</td>\n",
              "      <td>855</td>\n",
              "      <td>855</td>\n",
              "      <td>855</td>\n",
              "      <td>855</td>\n",
              "      <td>855</td>\n",
              "      <td>855</td>\n",
              "      <td>855</td>\n",
              "      <td>855</td>\n",
              "      <td>855</td>\n",
              "      <td>855</td>\n",
              "    </tr>\n",
              "  </tbody>\n",
              "</table>\n",
              "</div>"
            ],
            "text/plain": [
              "         fixed acidity  volatile acidity  citric acid  ...   pH  sulphates  alcohol\n",
              "quality                                                ...                         \n",
              "bad                744               744          744  ...  744        744      744\n",
              "good               855               855          855  ...  855        855      855\n",
              "\n",
              "[2 rows x 11 columns]"
            ]
          },
          "metadata": {
            "tags": []
          },
          "execution_count": 129
        }
      ]
    },
    {
      "cell_type": "code",
      "metadata": {
        "id": "OCsMlQU-B-h3",
        "colab": {
          "base_uri": "https://localhost:8080/"
        },
        "outputId": "4bd79002-ae74-40c0-ab7c-57b5dd126b35"
      },
      "source": [
        "features_df = cell_df[['fixed acidity', 'volatile acidity', 'citric acid', 'residual sugar', 'chlorides', 'free sulfur dioxide', 'total sulfur dioxide', 'density', 'pH', 'sulphates', 'alcohol']]\n",
        "\n",
        "X = np.asarray(features_df)    \n",
        "\n",
        "y = np.asarray(cell_df['quality']) \n",
        "\n",
        "X[0:5]"
      ],
      "execution_count": null,
      "outputs": [
        {
          "output_type": "execute_result",
          "data": {
            "text/plain": [
              "array([[7.400e+00, 7.000e-01, 0.000e+00, 1.900e+00, 7.600e-02, 1.100e+01,\n",
              "        3.400e+01, 9.978e-01, 3.510e+00, 5.600e-01, 9.400e+00],\n",
              "       [7.800e+00, 8.800e-01, 0.000e+00, 2.600e+00, 9.800e-02, 2.500e+01,\n",
              "        6.700e+01, 9.968e-01, 3.200e+00, 6.800e-01, 9.800e+00],\n",
              "       [7.800e+00, 7.600e-01, 4.000e-02, 2.300e+00, 9.200e-02, 1.500e+01,\n",
              "        5.400e+01, 9.970e-01, 3.260e+00, 6.500e-01, 9.800e+00],\n",
              "       [1.120e+01, 2.800e-01, 5.600e-01, 1.900e+00, 7.500e-02, 1.700e+01,\n",
              "        6.000e+01, 9.980e-01, 3.160e+00, 5.800e-01, 9.800e+00],\n",
              "       [7.400e+00, 7.000e-01, 0.000e+00, 1.900e+00, 7.600e-02, 1.100e+01,\n",
              "        3.400e+01, 9.978e-01, 3.510e+00, 5.600e-01, 9.400e+00]])"
            ]
          },
          "metadata": {
            "tags": []
          },
          "execution_count": 130
        }
      ]
    },
    {
      "cell_type": "code",
      "metadata": {
        "id": "YSqgAkUaCFbu",
        "colab": {
          "base_uri": "https://localhost:8080/"
        },
        "outputId": "85b89551-6fb0-43ad-8d1a-dac39e125223"
      },
      "source": [
        "y[0:5]"
      ],
      "execution_count": null,
      "outputs": [
        {
          "output_type": "execute_result",
          "data": {
            "text/plain": [
              "array(['bad', 'bad', 'bad', 'good', 'bad'], dtype=object)"
            ]
          },
          "metadata": {
            "tags": []
          },
          "execution_count": 131
        }
      ]
    },
    {
      "cell_type": "markdown",
      "metadata": {
        "id": "4lpb7EekELKR"
      },
      "source": [
        "# **3. Spliting the dataset into train data:test data::80:20**"
      ]
    },
    {
      "cell_type": "code",
      "metadata": {
        "id": "JtMR936GCKee"
      },
      "source": [
        "from sklearn.model_selection import train_test_split\n",
        "from tabulate import tabulate\n",
        "\n",
        "X_train, X_test, y_train, y_test = train_test_split(X, y, test_size = 0.2, random_state = 4)\n",
        "\n",
        "table = [[\"X_train\",X_train.shape[0],X_train.shape[1]],[\"X_test\",X_test.shape[0],X_test.shape[1]],\n",
        "         [\"y_train\",y_train.shape[0],1],[\"y_test\",y_test.shape[0],1]]\n",
        "\n"
      ],
      "execution_count": null,
      "outputs": []
    },
    {
      "cell_type": "markdown",
      "metadata": {
        "id": "NgDZkFWRmnny"
      },
      "source": [
        "| Dataset       | \\# of rows     | \\# of attributes     |\n",
        "| :------------- | :----------: | :-----------: |\n",
        "|  X_train | 1279  | 11    |\n",
        "|  X_test | 320   | 11 |\n",
        "|  y_train | 1279   | 1    |\n",
        "|  y_test   | 320 | 1 |"
      ]
    },
    {
      "cell_type": "code",
      "metadata": {
        "id": "6Ssrb3j6dcvD",
        "colab": {
          "base_uri": "https://localhost:8080/"
        },
        "outputId": "da490708-e52d-4fa8-902b-9f9343961abb"
      },
      "source": [
        "X, y = cell_df[list(cell_df.columns[:-1])], cell_df[list(cell_df.columns[-1:])]\n",
        "print(X.shape, y.shape)"
      ],
      "execution_count": null,
      "outputs": [
        {
          "output_type": "stream",
          "text": [
            "(1599, 11) (1599, 1)\n"
          ],
          "name": "stdout"
        }
      ]
    },
    {
      "cell_type": "code",
      "metadata": {
        "id": "pEJP5b-kVurk"
      },
      "source": [
        "X_train, X_test, y_train, y_test = train_test_split(X, y, test_size=0.2, random_state=109, shuffle=True)"
      ],
      "execution_count": null,
      "outputs": []
    },
    {
      "cell_type": "code",
      "metadata": {
        "id": "tGD-lZ-5CY6I",
        "colab": {
          "base_uri": "https://localhost:8080/"
        },
        "outputId": "b5a45f27-18a5-4a81-ea37-537d52f119ee"
      },
      "source": [
        "print(X_train.shape)\n",
        "print(X_test.shape)\n",
        "print(y_train.shape)\n",
        "print(y_test.shape)"
      ],
      "execution_count": null,
      "outputs": [
        {
          "output_type": "stream",
          "text": [
            "(1279, 11)\n",
            "(320, 11)\n",
            "(1279, 1)\n",
            "(320, 1)\n"
          ],
          "name": "stdout"
        }
      ]
    },
    {
      "cell_type": "code",
      "metadata": {
        "id": "ni6aMVcrCdo7",
        "colab": {
          "base_uri": "https://localhost:8080/",
          "height": 295
        },
        "outputId": "a3cf590a-223d-433d-ed37-4aea03c8c9b6"
      },
      "source": [
        "data_temp = {\"Train\":[X_train.shape[0], y_train.shape[0]],\n",
        "        \"Test\":[X_test.shape[0], y_test.shape[0]]\n",
        "        };\n",
        "index     = [\"X\", \"y\"];\n",
        "split_df = pd.DataFrame(data=data_temp, index=index);\n",
        "split_df.plot.bar(stacked=True, rot=0, title=\"Train Vs Test\");\n",
        "plt.xlabel(\"Dataset\")\n",
        "plt.ylabel(\"NUmber of rows count\")\n",
        "plt.show();\n"
      ],
      "execution_count": null,
      "outputs": [
        {
          "output_type": "display_data",
          "data": {
            "image/png": "[encoded data removed]",
            "text/plain": [
              "<Figure size 432x288 with 1 Axes>"
            ]
          },
          "metadata": {
            "tags": [],
            "needs_background": "light"
          }
        }
      ]
    },
    {
      "cell_type": "markdown",
      "metadata": {
        "id": "f8OX0HHjHjrb"
      },
      "source": [
        "# **4. Use 10-fold cross validation and tabulate the results**"
      ]
    },
    {
      "cell_type": "markdown",
      "metadata": {
        "id": "qt5O_UrvSecs"
      },
      "source": [
        "KFold divides all the samples in groups of samples, called folds  of equal sizes . The prediction function is learned using folds, and the fold left out is used for test.\n",
        "Here, I have used 10-Fold CV (n_splits=10), where the data will be split into 10 folds. Here printing out the indexes of the training and the testing sets in each iteration to clearly see the process of K-Fold CV where the training and testing set changes in each iteration."
      ]
    },
    {
      "cell_type": "code",
      "metadata": {
        "id": "9r6Z3GOJfGGx"
      },
      "source": [
        "from sklearn.model_selection import KFold\n",
        "from sklearn.preprocessing import MinMaxScaler\n",
        "from sklearn import svm\n",
        "from sklearn.svm import SVR\n",
        "from sklearn.metrics import accuracy_score\n"
      ],
      "execution_count": null,
      "outputs": []
    },
    {
      "cell_type": "code",
      "metadata": {
        "id": "AgbNzsory36b"
      },
      "source": [
        "X = cell_df.iloc[:,:-1]\n",
        "y = cell_df.iloc[:,-1]"
      ],
      "execution_count": null,
      "outputs": []
    },
    {
      "cell_type": "code",
      "metadata": {
        "id": "WIofG4Ehes8L"
      },
      "source": [
        "k = 10\n",
        "cv = KFold(n_splits=10, shuffle=False)\n",
        "classifier = svm.SVC(kernel='linear', gamma='auto', C=2)"
      ],
      "execution_count": null,
      "outputs": []
    },
    {
      "cell_type": "markdown",
      "metadata": {
        "id": "b251S-aYlrCE"
      },
      "source": [
        "**K- fold cross algorithm and SVM classification model**"
      ]
    },
    {
      "cell_type": "code",
      "metadata": {
        "id": "Emtorb5cwb23",
        "colab": {
          "base_uri": "https://localhost:8080/"
        },
        "outputId": "50dc6ced-3785-47ef-8a0f-ab6a02948aed"
      },
      "source": [
        "acc_score = []\n",
        "itr = k\n",
        "for train_index , test_index in cv.split(X):\n",
        "    \n",
        "    X_train , X_test = X.iloc[train_index,:],X.iloc[test_index,:]\n",
        "    y_train , y_test = y[train_index] , y[test_index]\n",
        "     \n",
        "    classifier.fit(X_train,y_train)\n",
        "    pred_values = classifier.predict(X_test)\n",
        "     \n",
        "    acc = accuracy_score(pred_values , y_test)\n",
        "    acc_score.append(acc)\n",
        "    print('Accuracy of {}th fold = {}%'.format((k-itr+1),np.round(acc*100, 2)))\n",
        "    itr-=1\n",
        "\n",
        "avg_acc_score = sum(acc_score)/k\n",
        "\n",
        "print('\\nTraining dataset length for each fold = {}'.format(len(train_index)))\n",
        "print('\\nTesting dataset length for each fold = {}'.format(len(test_index)))\n",
        "print('\\nMean accuracy of all {} folds = {}%'.format(k, np.round(avg_acc_score*100,2)))"
      ],
      "execution_count": null,
      "outputs": [
        {
          "output_type": "stream",
          "text": [
            "Accuracy of 1th fold = 68.75%\n",
            "Accuracy of 2th fold = 71.88%\n",
            "Accuracy of 3th fold = 75.0%\n",
            "Accuracy of 4th fold = 67.5%\n",
            "Accuracy of 5th fold = 69.38%\n",
            "Accuracy of 6th fold = 78.75%\n",
            "Accuracy of 7th fold = 78.12%\n",
            "Accuracy of 8th fold = 80.62%\n",
            "Accuracy of 9th fold = 78.12%\n",
            "Accuracy of 10th fold = 71.7%\n",
            "\n",
            "Training dataset length for each fold = 1440\n",
            "\n",
            "Testing dataset length for each fold = 159\n",
            "\n",
            "Mean accuracy of all 10 folds = 73.98%\n"
          ],
          "name": "stdout"
        }
      ]
    },
    {
      "cell_type": "code",
      "metadata": {
        "id": "UFVDjBRRgxIf",
        "colab": {
          "base_uri": "https://localhost:8080/",
          "height": 295
        },
        "outputId": "aa7546ee-2a96-4347-e408-b74af08cf777"
      },
      "source": [
        "plt.plot(np.arange(1,k+1), acc_score, marker='o', linestyle='solid', color = 'green')\n",
        "plt.xlabel(\"Fold #\")\n",
        "plt.ylabel(\"Accuracy\")\n",
        "plt.title(\"Accuracy vs folds\")\n",
        "plt.show()"
      ],
      "execution_count": null,
      "outputs": [
        {
          "output_type": "display_data",
          "data": {
            "image/png": "[encoded data removed]",
            "text/plain": [
              "<Figure size 432x288 with 1 Axes>"
            ]
          },
          "metadata": {
            "tags": [],
            "needs_background": "light"
          }
        }
      ]
    },
    {
      "cell_type": "markdown",
      "metadata": {
        "id": "9UQB25ODEW0K"
      },
      "source": [
        "**K- fold cross algorithm and Random Forest classification model**"
      ]
    },
    {
      "cell_type": "code",
      "metadata": {
        "id": "smBay3LwhBZn"
      },
      "source": [
        "import seaborn as sns\n",
        "from sklearn.model_selection import KFold\n",
        "from sklearn.ensemble import RandomForestClassifier\n",
        "from sklearn.metrics import confusion_matrix\n",
        "from sklearn.metrics import roc_auc_score, accuracy_score"
      ],
      "execution_count": null,
      "outputs": []
    },
    {
      "cell_type": "code",
      "metadata": {
        "id": "g2IXx6eep7G7"
      },
      "source": [
        "k = 10\n",
        "c_v = KFold(n_splits=10, shuffle=False)\n",
        "model = RandomForestClassifier(n_estimators=20, max_depth=10)"
      ],
      "execution_count": null,
      "outputs": []
    },
    {
      "cell_type": "code",
      "metadata": {
        "id": "NyvPEykq1avE",
        "colab": {
          "base_uri": "https://localhost:8080/"
        },
        "outputId": "2014cb7e-4c0b-44ef-d4f0-eb94ce9c3643"
      },
      "source": [
        "acc_score = []\n",
        "itr = k\n",
        "for train_index , test_index in c_v.split(X):\n",
        "    \n",
        "    X_train , X_test = X.iloc[train_index,:],X.iloc[test_index,:]\n",
        "    y_train , y_test = y[train_index] , y[test_index]\n",
        "     \n",
        "    model.fit(X_train,y_train)\n",
        "    pred_values = model.predict(X_test)\n",
        "     \n",
        "    acc = accuracy_score(pred_values , y_test)\n",
        "    acc_score.append(acc)\n",
        "    print('Accuracy of {}th fold = {}%'.format((k-itr+1),np.round(acc*100, 2)))\n",
        "    itr-=1\n",
        "\n",
        "avg_acc_score = sum(acc_score)/k\n",
        "\n",
        "print('\\nTraining dataset length for each fold = {}'.format(len(train_index)))\n",
        "print('\\nTesting dataset length for each fold = {}'.format(len(test_index)))\n",
        "print('\\nMean accuracy of all {} folds = {}%'.format(k, np.round(avg_acc_score*100,2)))"
      ],
      "execution_count": null,
      "outputs": [
        {
          "output_type": "stream",
          "text": [
            "Accuracy of 1th fold = 70.62%\n",
            "Accuracy of 2th fold = 72.5%\n",
            "Accuracy of 3th fold = 72.5%\n",
            "Accuracy of 4th fold = 75.62%\n",
            "Accuracy of 5th fold = 74.38%\n",
            "Accuracy of 6th fold = 73.75%\n",
            "Accuracy of 7th fold = 78.12%\n",
            "Accuracy of 8th fold = 78.75%\n",
            "Accuracy of 9th fold = 73.75%\n",
            "Accuracy of 10th fold = 70.44%\n",
            "\n",
            "Training dataset length for each fold = 1440\n",
            "\n",
            "Testing dataset length for each fold = 159\n",
            "\n",
            "Mean accuracy of all 10 folds = 74.04%\n"
          ],
          "name": "stdout"
        }
      ]
    },
    {
      "cell_type": "code",
      "metadata": {
        "id": "GMsqi8N-1iih",
        "colab": {
          "base_uri": "https://localhost:8080/",
          "height": 295
        },
        "outputId": "cc572eef-a348-4ade-b955-8d7e0588c019"
      },
      "source": [
        "plt.plot(np.arange(1,k+1), acc_score, marker='o', linestyle='solid', color = 'green')\n",
        "plt.xlabel(\"Fold #\")\n",
        "plt.ylabel(\"Accuracy\")\n",
        "plt.title(\"Accuracy vs folds\")\n",
        "plt.show()"
      ],
      "execution_count": null,
      "outputs": [
        {
          "output_type": "display_data",
          "data": {
            "image/png": "[encoded data removed]",
            "text/plain": [
              "<Figure size 432x288 with 1 Axes>"
            ]
          },
          "metadata": {
            "tags": [],
            "needs_background": "light"
          }
        }
      ]
    },
    {
      "cell_type": "markdown",
      "metadata": {
        "id": "civUutZyFPYC"
      },
      "source": [
        "# **5. Change the hyperparameter of SVM and random forest and plot the accuracy**"
      ]
    },
    {
      "cell_type": "markdown",
      "metadata": {
        "id": "M4y_bzd8uJgM"
      },
      "source": [
        "**Support Vector Classification**"
      ]
    },
    {
      "cell_type": "markdown",
      "metadata": {
        "id": "UsdHZBF2ZIDo"
      },
      "source": [
        "**C** is the penalty parameter, which represents misclassification or error term. The misclassification or error term tells the SVM optimization how much error is bearable. This is how you can control the trade-off between decision boundary and misclassification term. A smaller value of C creates a small-margin hyperplane and a larger value of C creates a larger-margin hyperplane."
      ]
    },
    {
      "cell_type": "markdown",
      "metadata": {
        "id": "ntQFgLEdZMw-"
      },
      "source": [
        " **Gamma**: A lower value of Gamma will loosely fit the training dataset, whereas a higher value of gamma will exactly fit the training dataset, which causes over-fitting. In other words, you can say a low value of gamma considers only nearby points in calculating the separation line, while the a value of gamma considers all the data points in the calculation of the separation line."
      ]
    },
    {
      "cell_type": "code",
      "metadata": {
        "id": "YBAqWlQmtK9-",
        "colab": {
          "base_uri": "https://localhost:8080/"
        },
        "outputId": "34d8e5ed-b4b0-43a3-d278-7bd811f4003f"
      },
      "source": [
        "classifier = svm.SVC(kernel='linear', gamma='scale', C=10)\n",
        "\n",
        "clf = classifier.fit(X_train, y_train)\n",
        "y_predict = classifier.predict(X_test)\n",
        "\n",
        "print('Accuracy of Linear SVC on training set: {:.2f}%'.format(clf.score(X_train, y_train)*100))\n",
        "print('Accuracy of Linear SVC on test set: {:.2f}%'.format(clf.score(X_test, y_test)*100))\n"
      ],
      "execution_count": null,
      "outputs": [
        {
          "output_type": "stream",
          "text": [
            "Accuracy of Linear SVC on training set: 75.28%\n",
            "Accuracy of Linear SVC on test set: 71.07%\n"
          ],
          "name": "stdout"
        }
      ]
    },
    {
      "cell_type": "code",
      "metadata": {
        "id": "J-EJ-TgACszo",
        "colab": {
          "base_uri": "https://localhost:8080/"
        },
        "outputId": "bdb4da0a-048a-40d0-fa01-465b6df0165f"
      },
      "source": [
        "\n",
        "param_grid = {'C': [0.1, 1, 10, 100]}\n",
        "\n",
        "grid = GridSearchCV(clf, param_grid =param_grid, cv=3, n_jobs=-1, scoring='accuracy')\n",
        "#grid = GridSearchCV(clf,param_grid,refit=True)\n",
        "temp_grid = grid.fit(X_train, y_train)\n",
        "best_C = grid.best_params_['C']# **5. Change the hyperparameter of SVM and random forest and plot the accuracy**\n",
        "print(\"The best value of hyper-parameter C : {:.3f}\" .format(best_C))\n",
        "print( \"Best estimator accuracy on test set {:.3f} \".format(grid.best_estimator_.score(X_test, y_test) * 100 ) )"
      ],
      "execution_count": null,
      "outputs": [
        {
          "output_type": "stream",
          "text": [
            "The best value of hyper-parameter C : 1.000\n",
            "Best estimator accuracy on test set 70.440 \n"
          ],
          "name": "stdout"
        }
      ]
    },
    {
      "cell_type": "code",
      "metadata": {
        "id": "_i9vCWsN6X1L"
      },
      "source": [
        "clf = SVC(kernel ='linear', gamma='scale', C=best_C).fit(X_train,y_train)"
      ],
      "execution_count": null,
      "outputs": []
    },
    {
      "cell_type": "code",
      "metadata": {
        "id": "GmnV2qg-6c-N",
        "colab": {
          "base_uri": "https://localhost:8080/",
          "height": 316
        },
        "outputId": "9666ee1c-6d65-472d-ddf5-a8961db5d182"
      },
      "source": [
        "target_names = [\"good\", \"bad\"]\n",
        "cm = confusion_matrix(y_test,classifier.predict(X_test))\n",
        "print(\"Confusion Matrix\",cm)\n",
        "vis = plot_confusion_matrix(clf, X_test, y_test, cmap=plt.cm.Blues, display_labels = target_names)\n",
        "plt.show()"
      ],
      "execution_count": null,
      "outputs": [
        {
          "output_type": "stream",
          "text": [
            "Confusion Matrix [[51 23]\n",
            " [23 62]]\n"
          ],
          "name": "stdout"
        },
        {
          "output_type": "display_data",
          "data": {
            "image/png": "[encoded data removed]",
            "text/plain": [
              "<Figure size 432x288 with 2 Axes>"
            ]
          },
          "metadata": {
            "tags": [],
            "needs_background": "light"
          }
        }
      ]
    },
    {
      "cell_type": "code",
      "metadata": {
        "id": "T7hE7tq065u5",
        "colab": {
          "base_uri": "https://localhost:8080/"
        },
        "outputId": "5b2e6e16-e1f6-4402-f169-091ed32e4b23"
      },
      "source": [
        "from sklearn.metrics import classification_report\n",
        "print(classification_report(y_test, y_predict))"
      ],
      "execution_count": null,
      "outputs": [
        {
          "output_type": "stream",
          "text": [
            "              precision    recall  f1-score   support\n",
            "\n",
            "         bad       0.69      0.69      0.69        74\n",
            "        good       0.73      0.73      0.73        85\n",
            "\n",
            "    accuracy                           0.71       159\n",
            "   macro avg       0.71      0.71      0.71       159\n",
            "weighted avg       0.71      0.71      0.71       159\n",
            "\n"
          ],
          "name": "stdout"
        }
      ]
    },
    {
      "cell_type": "markdown",
      "metadata": {
        "id": "fy4W-cHTZl34"
      },
      "source": [
        "**Random Forest Classifier**"
      ]
    },
    {
      "cell_type": "code",
      "metadata": {
        "id": "g3bdZM5NxBy5"
      },
      "source": [
        "x_train, x_test, y_train, y_test = train_test_split(X, y, test_size = 0.2, random_state = 21)"
      ],
      "execution_count": null,
      "outputs": []
    },
    {
      "cell_type": "markdown",
      "metadata": {
        "id": "aOfkKBgbaUq_"
      },
      "source": [
        "The RandomForestRegressor class of the sklearn.ensemble library is used to solve regression problems via random forest. The most important parameter of the RandomForestRegressor class is the n_estimators parameter. This parameter defines the number of trees in the random forest. I have started with **n_estimator=20** to see how our algorithm performs. "
      ]
    },
    {
      "cell_type": "code",
      "metadata": {
        "id": "R_S0WvoMw6Wy",
        "colab": {
          "base_uri": "https://localhost:8080/"
        },
        "outputId": "7c632df8-0101-45f2-adfc-072d785ee760"
      },
      "source": [
        "model = RandomForestClassifier(n_estimators=20, max_depth=15)\n",
        "z = model.fit(x_train, y_train)\n",
        "y_pred = model.predict(x_test)\n",
        "y_pred_train = model.predict(X_train)\n",
        "ac = accuracy_score(y_test, y_pred)\n",
        "\n",
        "print('Accuracy is: ',ac*100)\n"
      ],
      "execution_count": null,
      "outputs": [
        {
          "output_type": "stream",
          "text": [
            "Accuracy is:  78.4375\n"
          ],
          "name": "stdout"
        }
      ]
    },
    {
      "cell_type": "code",
      "metadata": {
        "id": "TIbxXOPNUrZr",
        "colab": {
          "base_uri": "https://localhost:8080/",
          "height": 316
        },
        "outputId": "f7590dd5-a6e6-4704-b48a-2d8bdd7a4dce"
      },
      "source": [
        "target_names = [\"good\", \"bad\"]\n",
        "cm = confusion_matrix(y_test,classifier.predict(X_test))\n",
        "print(\"Confusion Matrix\",cm)\n",
        "vis = plot_confusion_matrix(clf, X_test, y_test, cmap=plt.cm.Blues, display_labels = target_names)\n",
        "#sns.heatmap(cm/np.sum(cm),annot=True,fmt=\".2%\")\n",
        "plt.show()"
      ],
      "execution_count": null,
      "outputs": [
        {
          "output_type": "stream",
          "text": [
            "Confusion Matrix [[51 23]\n",
            " [23 62]]\n"
          ],
          "name": "stdout"
        },
        {
          "output_type": "display_data",
          "data": {
            "image/png": "[encoded data removed]",
            "text/plain": [
              "<Figure size 432x288 with 2 Axes>"
            ]
          },
          "metadata": {
            "tags": [],
            "needs_background": "light"
          }
        }
      ]
    }
  ]
}